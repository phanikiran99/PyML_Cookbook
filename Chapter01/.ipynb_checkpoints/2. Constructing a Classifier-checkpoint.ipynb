{
 "cells": [
  {
   "cell_type": "markdown",
   "metadata": {},
   "source": [
    "## Classifer Models - Supervised Learning\n",
    "- We will see below topics to be covered. \n",
    "    - Building a simple classifier\n",
    "    - Building a logistic regression classifier\n",
    "    - Building a Naïve Bayes classifier\n",
    "    - Splitting the dataset for training and testing\n",
    "    - Evaluating the accuracy using cross-validation\n",
    "    - Visualizing the confusion matrix\n",
    "    - Extracting the performance report\n",
    "    - Evaluating cars based on their characteristics\n",
    "    - Extracting validation curves\n",
    "    - Extracting learning curves\n",
    "    - Estimating the income bracket"
   ]
  },
  {
   "cell_type": "markdown",
   "metadata": {},
   "source": [
    "#### Classification refers to the process of using the characteristics of data to separate it into a certain number of classes. \n",
    "- Typical classification examples:\n",
    "    - Email -> spam/not spam?\n",
    "    - Online transactions -> fraudulent?\n",
    "    - Tumor -> Malignant/benign\n",
    "    \n",
    "classification can be either binary, where we separate data into two classes, or it can be multiclass, where we separate data into more than two classes. The mathematical techniques that are devised to deal with the classification problem tend to deal with two classes, so we extend them in different ways to deal with the multiclass problem as well.    "
   ]
  },
  {
   "cell_type": "markdown",
   "metadata": {},
   "source": [
    "### Hypothesis representation. \n",
    "- During Linear regresson we got our hypothesis as $ h_\\theta(x) = \\theta_0 x_0 + ...\\theta_n x_n $, If we try to vectorize this , then we will have $ h_\\theta(x) = \\theta^{T} X $ Where $ \\theta   {\\in}   \\theta_0, \\theta_1 ... \\theta_n $ and X is feature matrix with all training data. \n",
    "- When we are talking about logical regresson we are in most cases trying to predict the output in binary values, Hence our hypothesis should be represented in terms of $ sigmoid $ function. So our Hypothesis is $ h_\\theta(x) = g(\\theta^TX) $ and our sigmoid function is represented as $ g(z) = \\frac{1}{1+e^{-z}} $ Combining both our Hypothesis function $ h(x) = \\frac{1}{1+ e^{-\\theta^TX}} $\n",
    "\n",
    "Above function will give a fraction for example if it retursn $ 0.83 $  then we can predict that it is $ 83\\% $ in favor to that classification.  If we write that in terms of probability. \n",
    "Then we have $ h_\\theta(x) = P(y=1 \\vert X; \\theta) $ And also $ P(y=1 \\vert X; \\theta) + P(y=0 \\vert X; \\theta) = 1 $ \n",
    "\n",
    "And by computing all above we will get the Decission boundary of the data, which possibly seperates all the positive classes with the negative classes (In the case of binary classification). \n",
    "\n",
    "Now the part for cost function to see how effective is our hypothesis and then to tune it. \n",
    "For linear regresson our Cost function $ J(\\theta) = \\frac {1}{m} \\sum_{i=1}^{m} \\frac{1}{2} (h_\\theta(x^i) - y^i)^2 $\n",
    "For simplycity we will just assume that our cost $ Cost(h_\\theta(x^i), y) = \\frac{1}{2}(h_\\theta(x^i) - y^i)2 $ Which measures the cost for individual examples same as linear reg. Then our Cost Function $ J(\\theta) = \\frac{1}{m} \\sum_{i=1}^{m} Cost(h_\\theta(x), y) $"
   ]
  },
  {
   "cell_type": "markdown",
   "metadata": {},
   "source": [
    "A convex logistic regression cost function\n",
    "To get around this we need a different, convex Cost() function which means we can apply gradient descent\n",
    "\n",
    "$  \\begin{equation}\n",
    "    Cost(h_\\theta(x), y) = \\left\\{\n",
    "    \\begin{array}{l l}\n",
    "      \\text{ -log(h_theta(x)) if y=1} \\\\\n",
    "      \\text{ 1-log(h_theta(x)) if y=0}\\\\\n",
    "    \\end{array} \\right.\n",
    " \\end{equation}\n",
    "$\n",
    "\n",
    "So in summary we can represent our cost function as below <br> \n",
    "$ J(\\theta) = - \\frac{1}{m} [\\sum_{i=1}^{m} y^{i} log (h_\\theta(x^i)) + (1-y^i) log(1-h_\\theta(x^i)) ] $"
   ]
  },
  {
   "cell_type": "markdown",
   "metadata": {},
   "source": [
    "And finally to minimize the cost function, we can use the regular gradient descent algorithm. <br>\n",
    "Repeat  $ \\\\ \\{ \\\\\n",
    "                \\theta_j:= \\theta_j - \\alpha \\sum_{i=1}^{m}( h_\\theta(x) - y^i) x_j^i \\\\\n",
    "                            \\text{(Simultaniously update all }  \\theta_j ) \\\\\n",
    "                \\} $"
   ]
  },
  {
   "cell_type": "code",
   "execution_count": 3,
   "metadata": {
    "collapsed": true
   },
   "outputs": [],
   "source": [
    "## Ok lets Come to reality and build a simple classifer. "
   ]
  },
  {
   "cell_type": "code",
   "execution_count": 26,
   "metadata": {
    "collapsed": true
   },
   "outputs": [],
   "source": [
    "# Import all required packages \n",
    "import numpy as np\n",
    "import matplotlib as mpl\n",
    "import matplotlib.pyplot as plt\n",
    "import pandas as pd\n",
    "from sklearn.linear_model import LogisticRegression\n",
    "import seaborn as sns\n",
    "\n",
    "%matplotlib inline\n",
    "sns.set()\n"
   ]
  },
  {
   "cell_type": "markdown",
   "metadata": {},
   "source": [
    "### 1. Building a Simple Classifier. \n",
    "Lets build a simple classifier, which is able to seperate the data into positive and negative examples. "
   ]
  },
  {
   "cell_type": "code",
   "execution_count": 46,
   "metadata": {
    "collapsed": false
   },
   "outputs": [
    {
     "data": {
      "image/png": "[encoded data removed]",
      "text/plain": [
       "<matplotlib.figure.Figure at 0xc3d3e10>"
      ]
     },
     "metadata": {},
     "output_type": "display_data"
    }
   ],
   "source": [
    "# Create some sample data \n",
    "X = np.array([[3,1], [2,5], [1,8], [6,4], [5,2], [3,5], [4,7], [4,-1]])\n",
    "y = np.array([0, 1, 1, 0, 0, 1, 1, 0])\n",
    "\n",
    "positive = np.array([X[i] for i in range(len(X)) if y[i] == 1])\n",
    "negative = np.array([X[i] for i in range(len(X)) if y[i] != 1])\n",
    "\n",
    "# and the decisson boundary let us simply take the range of 0-10 , the data is distributed in such way\n",
    "line_x = range(10)\n",
    "line_y = line_x\n",
    "# Let us visualize postive and negative examples \n",
    "with sns.axes_style('white'):\n",
    "    plt.figure(figsize=(10,4))\n",
    "    plt.scatter(positive[:,0], positive[:,1], marker= 'o', color= 'green' )\n",
    "    plt.scatter(negative[:,0], negative[:,1], marker= 's', color= 'red' )\n",
    "    plt.title('Distribution of Positive and Negative Examples')\n",
    "    plt.plot(line_x, line_y, linewidth=3, color= 'black')"
   ]
  },
  {
   "cell_type": "markdown",
   "metadata": {},
   "source": [
    "However this is just a simple classifier we just build based on line_x and line_y as the decission boundary, in real scenario the task of the algorithm is to accurately predict the decisson boundary for the data"
   ]
  },
  {
   "cell_type": "markdown",
   "metadata": {},
   "source": [
    "### 2. Building a Logistic Regression Classifier. \n",
    "Lets build a sample Logistic regresson classifier, Despite the word regression being present in the name, logistic regression is actually used for classification purposes. Given a set of datapoints, our goal is to build a model that can draw linear boundaries between our classes."
   ]
  },
  {
   "cell_type": "code",
   "execution_count": 48,
   "metadata": {
    "collapsed": false
   },
   "outputs": [
    {
     "data": {
      "text/plain": [
       "LogisticRegression(C=100, class_weight=None, dual=False, fit_intercept=True,\n",
       "          intercept_scaling=1, max_iter=100, multi_class='ovr', n_jobs=1,\n",
       "          penalty='l2', random_state=None, solver='liblinear', tol=0.0001,\n",
       "          verbose=0, warm_start=False)"
      ]
     },
     "execution_count": 48,
     "metadata": {},
     "output_type": "execute_result"
    }
   ],
   "source": [
    "# Lets create some data (again)\n",
    "X = np.array([[4, 7], [3.5, 8], [3.1, 6.2], [0.5, 1], [1, 2], [1.2, 1.9], [6, 2], [5.7, 1.5], [5.4, 2.2]])\n",
    "y = np.array([0, 0, 0, 1, 1, 1, 2, 2, 2])\n",
    "# here we have three classifiers , 0,1, 2 \n",
    "classifier = LogisticRegression(solver='liblinear', C=100)\n",
    "#The solver parameter specifies the type of solver that the algorithm will use to solve the system of equations. The C parameter controls the regularization strength \n",
    "classifier.fit(X, y)"
   ]
  },
  {
   "cell_type": "code",
   "execution_count": 52,
   "metadata": {
    "collapsed": false
   },
   "outputs": [],
   "source": [
    "def plot_classifier(classifier, X, y):\n",
    "    # define ranges to plot the figure \n",
    "    x_min, x_max = min(X[:, 0]) - 1.0, max(X[:, 0]) + 1.0\n",
    "    y_min, y_max = min(X[:, 1]) - 1.0, max(X[:, 1]) + 1.0\n",
    "    return x_min, x_max, y_min, y_max"
   ]
  },
  {
   "cell_type": "code",
   "execution_count": 54,
   "metadata": {
    "collapsed": false
   },
   "outputs": [],
   "source": [
    "x_min, x_max, y_min, y_max = plot_classifier(classifier, X, y)"
   ]
  },
  {
   "cell_type": "code",
   "execution_count": 82,
   "metadata": {
    "collapsed": false
   },
   "outputs": [
    {
     "data": {
      "text/plain": [
       "([<matplotlib.axis.YTick at 0x22a95f60>,\n",
       "  <matplotlib.axis.YTick at 0x22b05828>,\n",
       "  <matplotlib.axis.YTick at 0x22d8b198>,\n",
       "  <matplotlib.axis.YTick at 0x22d8b630>,\n",
       "  <matplotlib.axis.YTick at 0x22d73f28>,\n",
       "  <matplotlib.axis.YTick at 0x22d8b748>,\n",
       "  <matplotlib.axis.YTick at 0x22d8bcf8>,\n",
       "  <matplotlib.axis.YTick at 0x22d93390>,\n",
       "  <matplotlib.axis.YTick at 0x22d939e8>],\n",
       " <a list of 9 Text yticklabel objects>)"
      ]
     },
     "execution_count": 82,
     "metadata": {},
     "output_type": "execute_result"
    },
    {
     "data": {
      "image/png": "[encoded data removed]",
      "text/plain": [
       "<matplotlib.figure.Figure at 0x22b85898>"
      ]
     },
     "metadata": {},
     "output_type": "display_data"
    }
   ],
   "source": [
    "# denotes the step size that will be used in the mesh grid\n",
    "step_size = 0.01\n",
    "\n",
    "# define the mesh grid \n",
    "x_values, y_values = np.meshgrid(np.arange(x_min, x_max, step_size), np.arange(y_min, y_max, step_size))\n",
    "\n",
    "# compute the classifier output\n",
    "mesh_output = classifier.predict(np.c_[x_values.ravel(), y_values.ravel()])\n",
    "\n",
    "# reshape the array\n",
    "mesh_output = mesh_output.reshape(x_values.shape)\n",
    "    \n",
    "# Plot the output using a colored plot \n",
    "plt.figure()\n",
    "\n",
    "# choose a color scheme \n",
    "plt.pcolormesh(x_values, y_values, mesh_output, cmap=plt.cm.Set2)\n",
    "plt.scatter(X[:, 0], X[:, 1], c=y, s=80, edgecolors='black', linewidth=1, cmap=plt.cm.Paired)\n",
    "\n",
    "# specify the boundaries of the figure\n",
    "plt.xlim(x_values.min(), x_values.max())\n",
    "plt.ylim(y_values.min(), y_values.max())\n",
    "\n",
    "# specify the ticks on the X and Y axes\n",
    "plt.xticks((np.arange(int(min(X[:, 0])-1), int(max(X[:, 0])+1), 1.0)))\n",
    "plt.yticks((np.arange(int(min(X[:, 1])-1), int(max(X[:, 1])+1), 1.0)))"
   ]
  },
  {
   "cell_type": "code",
   "execution_count": 72,
   "metadata": {
    "collapsed": false
   },
   "outputs": [
    {
     "data": {
      "text/plain": [
       "array([[ 2.  ,  3.22],\n",
       "       [ 1.  ,  2.  ]])"
      ]
     },
     "execution_count": 72,
     "metadata": {},
     "output_type": "execute_result"
    }
   ],
   "source": [
    "np.array([[2.0,3.22],[1,2]]).ravel().reshape(2,2)"
   ]
  }
 ],
 "metadata": {
  "kernelspec": {
   "display_name": "Python 2",
   "language": "python",
   "name": "python2"
  },
  "language_info": {
   "codemirror_mode": {
    "name": "ipython",
    "version": 2
   },
   "file_extension": ".py",
   "mimetype": "text/x-python",
   "name": "python",
   "nbconvert_exporter": "python",
   "pygments_lexer": "ipython2",
   "version": "2.7.11"
  }
 },
 "nbformat": 4,
 "nbformat_minor": 0
}
