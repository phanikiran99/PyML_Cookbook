{
 "cells": [
  {
   "cell_type": "markdown",
   "metadata": {},
   "source": [
    "# The Realm of Supervised Learning\n",
    "- In this Notebook we will focus on below topics \n",
    "\n",
    "<table allign='left'>\n",
    "<tr><td>1. Preprocessing data using different techniques</td><td>2 Label encoding</tr>\n",
    "<tr><td>3. Building a linear regressor </td> <td>4. Computing regression accuracy</td></tr>\n",
    "<tr><td>5. Achieving model persistence</td><td>6. Building a ridge regressor</tr>\n",
    "<tr><td>7. Building a polynomial regressor</td><td>8. Estimating housing prices</tr>\n",
    "<tr><td>9. Computing the relative importance of features</td><td>10. Estimating bicycle demand distribution</tr>\n",
    "</table>\n",
    "\n",
    "   \n",
    "    \n",
    "    \n",
    "    \n",
    "    \n",
    "    \n",
    "    \n",
    "    \n",
    "    \n",
    "    "
   ]
  },
  {
   "cell_type": "markdown",
   "metadata": {},
   "source": [
    "## Recap of Supervised learning \n",
    "- Supervised learning is a method of machile learning where the input data is labelled. i.e we will have the data examples available Ex: House Price prediction. In other words, we will teach the Machine on some data and then ask for the data that we dont know the value for(new examples or queries). <a href='http://www.holehouse.org/mlclass/01_02_Introduction_regression_analysis_and_gr.html'> More info </a>"
   ]
  },
  {
   "cell_type": "code",
   "execution_count": 208,
   "metadata": {
    "collapsed": false
   },
   "outputs": [],
   "source": [
    "# Import all required Libraries here\n",
    "import numpy as np\n",
    "import pandas as pd\n",
    "from sklearn import preprocessing\n",
    "from sklearn.preprocessing import PolynomialFeatures\n",
    "import re\n",
    "from sklearn import linear_model\n",
    "from sklearn.tree import DecisionTreeRegressor\n",
    "from sklearn.ensemble import AdaBoostRegressor\n",
    "from sklearn.ensemble import RandomForestRegressor\n",
    "from sklearn import datasets\n",
    "from sklearn.utils import shuffle\n",
    "import sklearn.metrics as sm\n",
    "from sklearn.cross_validation import train_test_split\n",
    "import matplotlib as mpl\n",
    "import matplotlib.pyplot as plt\n",
    "import seaborn as sns  \n",
    "import cPickle as pickle\n",
    "import warnings\n",
    "import csv\n",
    "\n",
    "# For visualization purposes \n",
    "%matplotlib inline\n",
    "sns.set()"
   ]
  },
  {
   "cell_type": "markdown",
   "metadata": {},
   "source": [
    "### 1: Preprocessing data\n",
    "- Before we work on any data we need to process the data, so that the model will predict us the better results and have best performance. "
   ]
  },
  {
   "cell_type": "code",
   "execution_count": 2,
   "metadata": {
    "collapsed": false
   },
   "outputs": [
    {
     "name": "stdout",
     "output_type": "stream",
     "text": [
      "Original Data\n",
      "[[ 3.  -1.5  2.  -5.4]\n",
      " [ 0.   4.  -0.3  2.1]\n",
      " [ 1.   3.3 -1.9 -4.3]]\n",
      "****************************************\n",
      "Mean= [  5.55111512e-17  -1.11022302e-16  -7.40148683e-17  -7.40148683e-17]\n",
      "****************************************\n",
      "Std= [ 1.  1.  1.  1.]\n"
     ]
    }
   ],
   "source": [
    "# Example Demonstration on how Preprocessing works\n",
    "data = np.array([[3, -1.5,  2, -5.4], [0,  4,  -0.3, 2.1], [1,  3.3, -1.9, -4.3]])\n",
    "print 'Original Data\\n', data\n",
    "print '*'* 40\n",
    "# Mean removal method - This substracts the mean from the data so the data is centered to zero\n",
    "data_standardized = preprocessing.scale(data) \n",
    "print 'Mean=', data_standardized.mean(axis=0)\n",
    "print '*'* 40\n",
    "print 'Std=', data_standardized.std(axis=0)"
   ]
  },
  {
   "cell_type": "markdown",
   "metadata": {},
   "source": [
    "- We can observe that the mean is almost equal to zero and there is not much deviation in the data\n",
    "\n",
    "#### Scale \n",
    "Sometimes it is important to scale the data within a data range , below will demostrate it. "
   ]
  },
  {
   "cell_type": "code",
   "execution_count": 3,
   "metadata": {
    "collapsed": false
   },
   "outputs": [
    {
     "name": "stdout",
     "output_type": "stream",
     "text": [
      "Min Max Scaled data \n",
      "[[ 1.          0.          1.          0.        ]\n",
      " [ 0.          1.          0.41025641  1.        ]\n",
      " [ 0.33333333  0.87272727  0.          0.14666667]]\n"
     ]
    }
   ],
   "source": [
    "data_scaler = preprocessing.MinMaxScaler(feature_range=(0, 1))\n",
    "print 'Min Max Scaled data \\n', data_scaler.fit_transform(data)"
   ]
  },
  {
   "cell_type": "markdown",
   "metadata": {},
   "source": [
    "#### Normalize "
   ]
  },
  {
   "cell_type": "code",
   "execution_count": 4,
   "metadata": {
    "collapsed": false
   },
   "outputs": [
    {
     "name": "stdout",
     "output_type": "stream",
     "text": [
      "Normalized Data= \n",
      "[[ 0.25210084 -0.12605042  0.16806723 -0.45378151]\n",
      " [ 0.          0.625      -0.046875    0.328125  ]\n",
      " [ 0.0952381   0.31428571 -0.18095238 -0.40952381]]\n"
     ]
    }
   ],
   "source": [
    "# adjusts the values of a feature vector so that they sum up to 1\n",
    "print 'Normalized Data= \\n', preprocessing.normalize(data, norm = 'l1')"
   ]
  },
  {
   "cell_type": "markdown",
   "metadata": {},
   "source": [
    "#### Binarization\n",
    "Used to convert numerical features to boolean vectors "
   ]
  },
  {
   "cell_type": "code",
   "execution_count": 5,
   "metadata": {
    "collapsed": false
   },
   "outputs": [
    {
     "name": "stdout",
     "output_type": "stream",
     "text": [
      "Binarized Data=\n",
      "[[ 1.  0.  1.  0.]\n",
      " [ 0.  1.  0.  1.]\n",
      " [ 0.  1.  0.  0.]]\n"
     ]
    }
   ],
   "source": [
    "print \"Binarized Data=\\n\" , preprocessing.Binarizer(threshold=1.4).transform(data)"
   ]
  },
  {
   "cell_type": "markdown",
   "metadata": {},
   "source": [
    "### 2: Label Encoding\n",
    "- if the label names are numeric then the algorithm can use them directly, But most of the times as we need to understand the data we will have it in words, And we will use Label Encoding too transform the word labels into numerical Form. "
   ]
  },
  {
   "cell_type": "code",
   "execution_count": 6,
   "metadata": {
    "collapsed": false
   },
   "outputs": [
    {
     "name": "stdout",
     "output_type": "stream",
     "text": [
      "audi --> 0\n",
      "bmw --> 1\n",
      "ford --> 2\n",
      "toyota --> 3\n"
     ]
    }
   ],
   "source": [
    "# Lets define the label encoder\n",
    "labelEncoder = preprocessing.LabelEncoder()\n",
    "# LabelEncoder object will now understand our labels\n",
    "input_classes =['audi', 'ford', 'audi', 'toyota', 'ford', 'bmw']\n",
    "# Encode the labels\n",
    "labelEncoder.fit(input_classes)\n",
    "\n",
    "for i, item in enumerate(labelEncoder.classes_):\n",
    "    print item, '-->', i"
   ]
  },
  {
   "cell_type": "markdown",
   "metadata": {},
   "source": [
    "As shown above it just sorted based on the ascending order of the label. Now we can try to transform any label as below."
   ]
  },
  {
   "cell_type": "code",
   "execution_count": 7,
   "metadata": {
    "collapsed": false
   },
   "outputs": [
    {
     "name": "stdout",
     "output_type": "stream",
     "text": [
      "['toyota', 'ford', 'audi']\n",
      "[3, 2, 0]\n"
     ]
    }
   ],
   "source": [
    "labels = ['toyota', 'ford', 'audi']\n",
    "encoded_lables = labelEncoder.transform(labels)\n",
    "print labels\n",
    "print list(encoded_lables)"
   ]
  },
  {
   "cell_type": "code",
   "execution_count": 8,
   "metadata": {
    "collapsed": false
   },
   "outputs": [
    {
     "name": "stdout",
     "output_type": "stream",
     "text": [
      "['toyota' 'ford' 'audi']\n"
     ]
    }
   ],
   "source": [
    "# we can also do inverse transformation/decoding the labesl\n",
    "decoded_labels = labelEncoder.inverse_transform(list(encoded_lables))\n",
    "print decoded_labels"
   ]
  },
  {
   "cell_type": "markdown",
   "metadata": {},
   "source": [
    "### 3: Building a Linear Regressor\n",
    "- Linear Regression is a model of supervised learning, where the hypothesis is generally a straight line/plane. Our goal is to estimate this hypothesis function. $ h_\\theta(x) = \\theta_0x_0 + \\theta_1x_1 + \\theta_2x_2 + ... \\theta_nx_n $ , Where $ h_\\theta(x) $ is representation of the hypothesis function (or the linear function in this case) , parameters $ \\theta_0... \\theta_n $ are the weights of the function. And $ x_0...x_n $ are the features our our model. \n",
    "\n",
    "Our Model will predict the values that suit the best for $\\theta_0 ... \\theta_n $ which will fit the model. "
   ]
  },
  {
   "cell_type": "code",
   "execution_count": 9,
   "metadata": {
    "collapsed": false
   },
   "outputs": [],
   "source": [
    "# Lets visualize what we are talking here :) \n",
    "f = open('data_singlevar.txt','r')\n",
    "data = f.read().split('\\n')\n",
    "X = []\n",
    "y = []\n",
    "data.pop()\n",
    "for rec in data:\n",
    "    X.append(float(rec.split(',')[0]))\n",
    "    y.append(float(rec.split(',')[1]))"
   ]
  },
  {
   "cell_type": "code",
   "execution_count": 10,
   "metadata": {
    "collapsed": false
   },
   "outputs": [
    {
     "data": {
      "image/png": "[encoded data removed]",
      "text/plain": [
       "<matplotlib.figure.Figure at 0xa588a58>"
      ]
     },
     "metadata": {},
     "output_type": "display_data"
    }
   ],
   "source": [
    "with sns.axes_style('white'):\n",
    "    plt.scatter(X,y)\n",
    "    plt.xlabel('X Data')\n",
    "    plt.ylabel('y Data')"
   ]
  },
  {
   "cell_type": "markdown",
   "metadata": {},
   "source": [
    "- We can observe the data distribution here it grows on y as x increases but not necessarrily always , so we will just try to plot a line which fits best with the data. \n",
    "- Now the real problem comes up to find the value of $ \\theta $ vector (i.e $ [ \\theta_0 ... \\theta_n] ) $\n",
    "\n",
    "We will use Certain algorithm called as Gradient descent (Just to understand how in general the regressor works ), This algorithm will calculate for each point , the square error averaged by the total number of examples . \n",
    "    \n",
    "> $ J(\\theta) =  \\dfrac{1}{2m}  \\sum_{i=1}^{m}(h_\\theta(x^i)-y^i) ^2 $\n",
    "\n",
    "Our objective of the gradient descent is to minimize the cost for above function.. \n",
    "Repeat until Convergence \n",
    "$   { \\theta_j = \\theta_j - \\alpha * \\frac{\\partial J(\\theta)}{\\partial \\theta_j} }    $\n",
    "where:\n",
    "$ j = 0,1...n $ For 'n' features \n",
    "$ \\frac{\\partial J(\\theta)}{\\partial \\theta_j} $ is partial derivative for cost function\n",
    "\n",
    "- By Applying calculus  \n",
    "Repeat until Convergence \n",
    "$   { \\theta_j = \\theta_j - \\alpha * \\frac{1}{m}* \\sum_{i=1}^{m}(h_\\theta(x^i)-y^i) x_j^i }    $\n",
    "where:\n",
    "$ j = 0,1...n $ For 'n' features      ,    $\\alpha $ is the learning rate.                         \n"
   ]
  },
  {
   "cell_type": "markdown",
   "metadata": {},
   "source": [
    "#### However we dont technically dont need to do much of this work as we already have beautiful library sklear which will do the work for us.\n",
    "    So lets see how to Apply sklearn.linear_model now \n"
   ]
  },
  {
   "cell_type": "code",
   "execution_count": 11,
   "metadata": {
    "collapsed": false
   },
   "outputs": [],
   "source": [
    "# We have already imported the libraries , data is available in X and y \n",
    "# We always need to validate our model, so we need to split the data into test data and train data respecively. \n",
    "num_training = int(0.8 * len(X))  # 80% of data\n",
    "num_test = len(X) - num_training  # remaining data\n",
    "\n",
    "# Training data\n",
    "X_train = np.array(X[:num_training]).reshape((num_training,1))\n",
    "y_train = np.array(y[:num_training])\n",
    "\n",
    "# Test data\n",
    "X_test = np.array(X[num_training:]).reshape((num_test,1))\n",
    "y_test = np.array(y[num_training:])"
   ]
  },
  {
   "cell_type": "code",
   "execution_count": 12,
   "metadata": {
    "collapsed": false
   },
   "outputs": [
    {
     "data": {
      "text/plain": [
       "<matplotlib.text.Text at 0xb5e2e10>"
      ]
     },
     "execution_count": 12,
     "metadata": {},
     "output_type": "execute_result"
    },
    {
     "data": {
      "image/png": "[encoded data removed]",
      "text/plain": [
       "<matplotlib.figure.Figure at 0xb2f5eb8>"
      ]
     },
     "metadata": {},
     "output_type": "display_data"
    }
   ],
   "source": [
    "# Now that we have split the data into both training and test we can try to fit this to the model. \n",
    "# Create linear model object\n",
    "linearModel = linear_model.LinearRegression()\n",
    "# fit the model to test data\n",
    "linearModel.fit(X_train,y_train)\n",
    "\n",
    "# Lets see what it predicts for the train set & Plot \n",
    "y_train_pred = linearModel.predict(X_train)\n",
    "y_test_pred = linearModel.predict(X_test)\n",
    "plt.figure(figsize=(15,10))\n",
    "plt.subplot(2,2,1)\n",
    "plt.scatter(X_train, y_train, color='green',label='Acutal Data')\n",
    "plt.plot(X_train, y_train_pred, linewidth=3, color= 'blue',label='Prediction')\n",
    "plt.xlabel('X data'); plt.ylabel('y data')\n",
    "plt.legend()\n",
    "plt.title('Results with Trained Data')\n",
    "plt.subplot(2,2,2)\n",
    "plt.scatter(X_test, y_test, color='red',label='Acutal Data')\n",
    "plt.plot(X_test, y_test_pred, linewidth=3, color= 'black',label='Prediction')\n",
    "plt.xlabel('X data'); plt.ylabel('y data')\n",
    "plt.legend()\n",
    "plt.title('Results with Test Data')"
   ]
  },
  {
   "cell_type": "markdown",
   "metadata": {},
   "source": [
    "We can see that both the train and test data fit the model at its best but not very accurately, as there is still a lot deviation for some data. Following below will give us the regression accuracy. "
   ]
  },
  {
   "cell_type": "markdown",
   "metadata": {},
   "source": [
    "### 4: Computing Regression Accuracy\n",
    "An error is defined as the difference between the actual value and the value that is predicted by the regressor. Just like the cost function $ J(\\theta) $"
   ]
  },
  {
   "cell_type": "markdown",
   "metadata": {},
   "source": [
    "- Mean absolute error: This is the average of absolute errors of all the datapoints in the given dataset.\n",
    "- Mean squared error: This is the average of the squares of the errors of all the datapoints in the given dataset. It is one of the most popular metrics out there!\n",
    "- Median absolute error: This is the median of all the errors in the given dataset. The main advantage of this metric is that it's robust to outliers. A single bad point in the test dataset wouldn't skew the entire error metric, as opposed to a mean error metric.\n",
    "- Explained variance score: This score measures how well our model can account for the variation in our dataset. A score of 1.0 indicates that our model is perfect.\n",
    "- R2 score: This is pronounced as R-squared, and this score refers to the coefficient of determination. This tells us how well the unknown samples will be predicted by our model. The best possible score is 1.0, and the values can be negative as well."
   ]
  },
  {
   "cell_type": "code",
   "execution_count": 13,
   "metadata": {
    "collapsed": false
   },
   "outputs": [
    {
     "name": "stdout",
     "output_type": "stream",
     "text": [
      "Mean absolute error = 0.54\n",
      "Mean squared error = 0.38\n",
      "Median absolute error = 0.54\n",
      "Explained variance score = 0.68\n",
      "R2 score = 0.68\n"
     ]
    }
   ],
   "source": [
    "print \"Mean absolute error =\", round(sm.mean_absolute_error(y_test, y_test_pred), 2) \n",
    "print \"Mean squared error =\", round(sm.mean_squared_error(y_test, y_test_pred), 2) \n",
    "print \"Median absolute error =\", round(sm.median_absolute_error(y_test, y_test_pred), 2) \n",
    "print \"Explained variance score =\", round(sm.explained_variance_score(y_test, y_test_pred), 2) \n",
    "print \"R2 score =\", round(sm.r2_score(y_test, y_test_pred), 2)"
   ]
  },
  {
   "cell_type": "code",
   "execution_count": 14,
   "metadata": {
    "collapsed": false
   },
   "outputs": [
    {
     "name": "stdout",
     "output_type": "stream",
     "text": [
      "Score of our Linear Model(Training) =  0.744642664317\n",
      "Score of our Linear Model(Test Data) =  0.675158663388\n"
     ]
    }
   ],
   "source": [
    "# we can see that the model is about just 60% accurate\n",
    "# Another metric which we can use is the score method on the model\n",
    "print 'Score of our Linear Model(Training) = ', linearModel.score(X_train,y_train) \n",
    "print 'Score of our Linear Model(Test Data) = ', linearModel.score(X_test,y_test) "
   ]
  },
  {
   "cell_type": "markdown",
   "metadata": {},
   "source": [
    "It is Obvious that the model works good on the training data rather than the test(new examples/samples).  \n",
    "A good practice is to make sure that the mean squared error is low and the explained variance score is high."
   ]
  },
  {
   "cell_type": "markdown",
   "metadata": {},
   "source": [
    "### 5: Achieving Model Persistance\n",
    "It is a good practice to save the model for future references instead of creating the model and training it each time, we will use the module cPickle for the same purposes ( Already imported) "
   ]
  },
  {
   "cell_type": "code",
   "execution_count": 15,
   "metadata": {
    "collapsed": true
   },
   "outputs": [],
   "source": [
    "with open('linearRegressor.pkl','w') as f:\n",
    "    pickle.dump(linearModel, f)"
   ]
  },
  {
   "cell_type": "code",
   "execution_count": 16,
   "metadata": {
    "collapsed": false
   },
   "outputs": [
    {
     "data": {
      "text/plain": [
       "array([ True,  True,  True,  True,  True,  True,  True,  True,  True,  True], dtype=bool)"
      ]
     },
     "execution_count": 16,
     "metadata": {},
     "output_type": "execute_result"
    }
   ],
   "source": [
    "# the regressor model will be saved as linearRegressor.pkl , lets see how to load it and reuse it\n",
    "with open('linearRegressor.pkl','r') as f:\n",
    "    modelLin = pickle.load(f)\n",
    "# and then this model predictions will be same as our existing model, ofcourse it is just a copy of this model\n",
    "modelLin.predict(X_test) == linearModel.predict(X_test)"
   ]
  },
  {
   "cell_type": "markdown",
   "metadata": {},
   "source": [
    "****\n",
    "### 6: Building a Ridge Regressor\n",
    "As we have seen the Linear regressor model is not very accurate, And It is not widely used in production due to the metrics that we have seen before, because the regressor is always trying to predict the data based on linear line/plane. \n",
    "Also it wont work with outliers (i.e data points which are far seperate from original data) , these outliers will cause problem to our liner model a lot. <br>\n",
    "To avoid this, we use regularization where a penalty is imposed on the size of the coefficients. This method is called Ridge Regression."
   ]
  },
  {
   "cell_type": "code",
   "execution_count": 87,
   "metadata": {
    "collapsed": false
   },
   "outputs": [],
   "source": [
    "# Lets load a new dataset which contains multiple variables \n",
    "# data = pd.read_csv('data_multivar.txt',header=None)\n",
    "# X = data.drop(3).astype(float); y = data[3].astype(float)\n",
    "# mask = np.random.rand(len(X)) >= 0.8\n",
    "# X_train = X[mask].values\n",
    "# y_train = y[mask].values\n",
    "# X_test = X[~mask].values\n",
    "# y_test = y[~mask].values\n",
    "\n",
    "# Using numpy \n",
    "filename = 'data_multivar.txt'\n",
    "X = []\n",
    "y = []\n",
    "with open(filename, 'r') as f:\n",
    "    for line in f.readlines():\n",
    "        data = [float(i) for i in line.split(',')]\n",
    "        xt, yt = data[:-1], data[-1]\n",
    "        X.append(xt)\n",
    "        y.append(yt)\n",
    "\n",
    "# Train/test split\n",
    "num_training = int(0.8 * len(X))\n",
    "num_test = len(X) - num_training\n",
    "\n",
    "# Training data\n",
    "X_train = np.array(X[:num_training])\n",
    "y_train = np.array(y[:num_training])\n",
    "\n",
    "# Test data\n",
    "X_test = np.array(X[num_training:])\n",
    "y_test = np.array(y[num_training:])"
   ]
  },
  {
   "cell_type": "code",
   "execution_count": 88,
   "metadata": {
    "collapsed": false
   },
   "outputs": [
    {
     "name": "stdout",
     "output_type": "stream",
     "text": [
      "Mean absolute error = 3.95\n",
      "Mean squared error = 23.15\n",
      "Mean squared error(tr) = 19.68\n",
      "Median absolute error = 3.69\n",
      "Explain variance score = 0.84\n",
      "R2 score = 0.83\n"
     ]
    }
   ],
   "source": [
    "# Now let us train the model using ridge regressor\n",
    "ridgeModel = linear_model.Ridge(alpha= 0.01, fit_intercept=True, max_iter=20000)\n",
    "# The alpha parameter controls the complexity. As alpha gets closer to 0, the ridge regressor tends to become more like a linear regressor with ordinary least squares. \n",
    "# So, if you want to make it robust against outliers, you need to assign a higher value to alpha. \n",
    "ridgeModel.fit(X_train,y_train)\n",
    "y_test_pred_ridge = ridgeModel.predict(X_test)\n",
    "y_train_pred_ridge = ridgeModel.predict(X_train)\n",
    "print \"Mean absolute error =\", round(sm.mean_absolute_error(y_test, y_test_pred_ridge), 2) \n",
    "\n",
    "print \"Mean squared error =\", round(sm.mean_squared_error(y_test, y_test_pred_ridge), 2) \n",
    "print \"Mean squared error(tr) =\", round(sm.mean_squared_error(y_train, y_train_pred_ridge), 2) \n",
    "\n",
    "print \"Median absolute error =\", round(sm.median_absolute_error(y_test, y_test_pred_ridge), 2) \n",
    "print \"Explain variance score =\", round(sm.explained_variance_score(y_test, y_test_pred_ridge), 2) \n",
    "print \"R2 score =\", round(sm.r2_score(y_test, y_test_pred_ridge), 2)"
   ]
  },
  {
   "cell_type": "code",
   "execution_count": 85,
   "metadata": {
    "collapsed": false
   },
   "outputs": [
    {
     "data": {
      "text/plain": [
       "0.83448001889970302"
      ]
     },
     "execution_count": 85,
     "metadata": {},
     "output_type": "execute_result"
    }
   ],
   "source": [
    "ridgeModel.score(X_test,y_test)"
   ]
  },
  {
   "cell_type": "code",
   "execution_count": 86,
   "metadata": {
    "collapsed": true
   },
   "outputs": [],
   "source": [
    "# Some how this model is not performing well both on training and test sets if we are using Pandas instead of numpy arrays. "
   ]
  },
  {
   "cell_type": "markdown",
   "metadata": {},
   "source": [
    "****\n",
    "### 7: Building a Polynomial Regressor. \n",
    "Linear model doest always fit the data, as the data can be in the form of a curve , so we can change our existing hypothesis by adding polinomial features to it. \n",
    "$ h_\\theta(x) = \\theta_0 x_0 + \\theta_1 x_1 + \\theta_3 x_0^2 + \\theta_4 x_1^2 + \\theta_5 x_1 x_2 + ..... $\n",
    "The curviness of this model is controlled by the degree of the polynomial. As the curviness of the model increases, it gets more accurate. However, curviness adds complexity to the model as well, hence, making it slower. "
   ]
  },
  {
   "cell_type": "code",
   "execution_count": 101,
   "metadata": {
    "collapsed": true
   },
   "outputs": [],
   "source": [
    "# Lets try to create it\n",
    "polynomial = PolynomialFeatures(degree= 10)\n",
    "\n",
    "# We had degree =3 which means it will be computed till x^3  \n",
    "X_train_transformed = polynomial.fit_transform(X_train)"
   ]
  },
  {
   "cell_type": "code",
   "execution_count": 102,
   "metadata": {
    "collapsed": false,
    "scrolled": true
   },
   "outputs": [
    {
     "data": {
      "text/plain": [
       "LinearRegression(copy_X=True, fit_intercept=True, n_jobs=1, normalize=False)"
      ]
     },
     "execution_count": 102,
     "metadata": {},
     "output_type": "execute_result"
    }
   ],
   "source": [
    "datapoint = np.array([0.39,2.78,7.11]).reshape(1, -1)\n",
    "poly_datapoint = polynomial.fit_transform(datapoint)\n",
    "poly_linear_model = linear_model.LinearRegression()\n",
    "poly_linear_model.fit(X_train_transformed, y_train)\n",
    "linearModel = linear_model.LinearRegression()\n",
    "linearModel.fit(X_train,y_train)"
   ]
  },
  {
   "cell_type": "code",
   "execution_count": 103,
   "metadata": {
    "collapsed": false
   },
   "outputs": [
    {
     "data": {
      "text/plain": [
       "((1L, 286L), (400L, 286L))"
      ]
     },
     "execution_count": 103,
     "metadata": {},
     "output_type": "execute_result"
    }
   ],
   "source": [
    "poly_datapoint.shape,X_train_transformed.shape"
   ]
  },
  {
   "cell_type": "code",
   "execution_count": 104,
   "metadata": {
    "collapsed": false
   },
   "outputs": [
    {
     "name": "stdout",
     "output_type": "stream",
     "text": [
      "\n",
      "Linear regression: [-11.0587295]\n",
      "\n",
      "Polynomial regression: [-8.14893471]\n"
     ]
    }
   ],
   "source": [
    "print \"\\nLinear regression:\", linearModel.predict(datapoint)\n",
    "print \"\\nPolynomial regression:\", poly_linear_model.predict(poly_datapoint)"
   ]
  },
  {
   "cell_type": "code",
   "execution_count": 107,
   "metadata": {
    "collapsed": false
   },
   "outputs": [
    {
     "data": {
      "text/plain": [
       "0.95763167919971326"
      ]
     },
     "execution_count": 107,
     "metadata": {},
     "output_type": "execute_result"
    }
   ],
   "source": [
    "# As we keep on increasing the degree of the model the accuracy will improve. This is result of further bend in the curve\n",
    "poly_linear_model.score(X_train_transformed,y_train)"
   ]
  },
  {
   "cell_type": "markdown",
   "metadata": {},
   "source": [
    "****\n",
    "### 8: Estimating House Prices. \n",
    "We will use a decision tree regressor with AdaBoost to solve this problem. "
   ]
  },
  {
   "cell_type": "markdown",
   "metadata": {},
   "source": [
    "A decision tree is a tree where each node makes a simple decision that contributes to the final output. The leaf nodes represent the output values, and the branches represent the intermediate decisions that were made, based on input features. AdaBoost stands for Adaptive Boosting, and this is a technique that is used to boost the accuracy of the results from another system. This combines the outputs from different versions of the algorithms, called weak learners, using a weighted summation to get the final output. The information that's collected at each stage of the AdaBoost algorithm is fed back into the system so that the learners at the latter stages focus on training samples that are difficult to classify. This is the way it increases the accuracy of the system.\n",
    "\n",
    "Using AdaBoost, we fit a regressor on the dataset. We compute the error and then fit the regressor on the same dataset again, based on this error estimate. We can think of this as fine-tuning of the regressor until the desired accuracy is achieved. You are given a dataset that contains various parameters that affect the price of a house. Our goal is to estimate the relationship between these parameters and the house price so that we can use this to estimate the price given unknown input parameters."
   ]
  },
  {
   "cell_type": "code",
   "execution_count": 201,
   "metadata": {
    "collapsed": true
   },
   "outputs": [],
   "source": [
    "# Load dataset\n",
    "housing_data = datasets.load_boston()   # This dataset is already provided by Sklearn"
   ]
  },
  {
   "cell_type": "code",
   "execution_count": 202,
   "metadata": {
    "collapsed": false
   },
   "outputs": [],
   "source": [
    "# housing_data.data, housing_data.target already contain X and y but lets shuffle it once\n",
    "X, y  = shuffle(housing_data.data, housing_data.target, random_state =7 )"
   ]
  },
  {
   "cell_type": "code",
   "execution_count": 203,
   "metadata": {
    "collapsed": false
   },
   "outputs": [
    {
     "data": {
      "text/plain": [
       "AdaBoostRegressor(base_estimator=DecisionTreeRegressor(criterion='mse', max_depth=4, max_features=None,\n",
       "           max_leaf_nodes=None, min_samples_leaf=1, min_samples_split=2,\n",
       "           min_weight_fraction_leaf=0.0, presort=False, random_state=None,\n",
       "           splitter='best'),\n",
       "         learning_rate=1.0, loss='linear', n_estimators=400,\n",
       "         random_state=7)"
      ]
     },
     "execution_count": 203,
     "metadata": {},
     "output_type": "execute_result"
    }
   ],
   "source": [
    "# Lets divide the data into test and train \n",
    "X_train, X_test, y_train, y_test = train_test_split(X, y, test_size = 0.2, random_state=0)\n",
    "\n",
    "# we are now ready with the data that can fit into the model \n",
    "dtRegressor = DecisionTreeRegressor(max_depth=4)\n",
    "dtRegressor.fit(X_train, y_train)\n",
    "\n",
    "# Let us also fit Decission tree regressor with AdaBoostRegressor\n",
    "abRegressor = AdaBoostRegressor(DecisionTreeRegressor(max_depth=4), n_estimators=400, random_state=7)\n",
    "abRegressor.fit(X_train, y_train)"
   ]
  },
  {
   "cell_type": "code",
   "execution_count": 204,
   "metadata": {
    "collapsed": false
   },
   "outputs": [
    {
     "name": "stdout",
     "output_type": "stream",
     "text": [
      "* Metrics Decisson Tree *\n",
      "Mean Squared Error =  20.0148155402\n",
      "Explained variance score=  0.812754682363\n",
      "**************************************************\n",
      "* Metrics Ada Boost Regressor *\n",
      "Mean Squared Error =  12.4062810264\n",
      "Explained variance score=  0.884012944932\n"
     ]
    }
   ],
   "source": [
    "# Lets see how the regressor is perfomring with the data\n",
    "y_pred_dt = dtRegressor.predict(X_test)\n",
    "y_pred_ab = abRegressor.predict(X_test)\n",
    "print '* Metrics Decisson Tree *'\n",
    "print 'Mean Squared Error = ' , sm.mean_squared_error(y_test, y_pred_dt)\n",
    "print 'Explained variance score= ', sm.explained_variance_score(y_test, y_pred_dt)\n",
    "print '*' * 50\n",
    "print '* Metrics Ada Boost Regressor *'\n",
    "print 'Mean Squared Error = ' , sm.mean_squared_error(y_test, y_pred_ab)\n",
    "print 'Explained variance score= ', sm.explained_variance_score(y_test, y_pred_ab)"
   ]
  },
  {
   "cell_type": "markdown",
   "metadata": {},
   "source": [
    "****\n",
    "### 9: Computing Relative Importance of Features. \n",
    "Not All features of the data might be useful for us, there may be features which add more weight to the model, getting the information of those features will make our model bend to tune."
   ]
  },
  {
   "cell_type": "code",
   "execution_count": 234,
   "metadata": {
    "collapsed": true
   },
   "outputs": [],
   "source": [
    "def plot_feature_importances(feature_importances, title, feature_names):\n",
    "    # Normalize the importance values \n",
    "    feature_importances = 100.0 * (feature_importances / max(feature_importances))\n",
    "\n",
    "    # Sort the values and flip them\n",
    "    index_sorted = np.flipud(np.argsort(feature_importances))\n",
    "\n",
    "    # Arrange the X ticks\n",
    "    pos = np.arange(index_sorted.shape[0]) + 0.5\n",
    "\n",
    "    # Plot the bar graph\n",
    "    \n",
    "    plt.figure(figsize=(15,5))\n",
    "    plt.bar(pos, feature_importances[index_sorted], align='center')\n",
    "    plt.xticks(pos, feature_names[index_sorted])\n",
    "    plt.ylabel('Relative Importance')\n",
    "    plt.title(title)\n",
    "    plt.show()"
   ]
  },
  {
   "cell_type": "code",
   "execution_count": 235,
   "metadata": {
    "collapsed": false
   },
   "outputs": [
    {
     "data": {
      "image/png": "[encoded data removed]",
      "text/plain": [
       "<matplotlib.figure.Figure at 0xa6158d0>"
      ]
     },
     "metadata": {},
     "output_type": "display_data"
    },
    {
     "data": {
      "image/png": "[encoded data removed]",
      "text/plain": [
       "<matplotlib.figure.Figure at 0xd9dda20>"
      ]
     },
     "metadata": {},
     "output_type": "display_data"
    }
   ],
   "source": [
    "plot_feature_importances(dtRegressor.feature_importances_, \n",
    "        'Decision Tree regressor', housing_data.feature_names)\n",
    "plot_feature_importances(abRegressor.feature_importances_, \n",
    "        'AdaBoost regressor', housing_data.feature_names)"
   ]
  },
  {
   "cell_type": "code",
   "execution_count": 200,
   "metadata": {
    "collapsed": false
   },
   "outputs": [],
   "source": [
    "# From above data it is clear that most important feature to our model is LSTAT feature. "
   ]
  },
  {
   "cell_type": "markdown",
   "metadata": {},
   "source": [
    "****\n",
    "### 10: Estimating Price of Bicycle. \n",
    "We will use a different regressor for this model and it is called the \"Random Forest Regressor\".A random forest is a collection of decision trees. This basically uses a set of decision trees that are built using various subsets of the dataset, and then it uses averaging to improve the overall performance."
   ]
  },
  {
   "cell_type": "code",
   "execution_count": 255,
   "metadata": {
    "collapsed": false
   },
   "outputs": [],
   "source": [
    "# Libraries are already imported,\n",
    "# Let us load the data\n",
    "file = csv.reader(open('bike_hour.csv', 'rb'), delimiter= ',')\n",
    "# Get the data into X and y \n",
    "X, y  = [], []\n",
    "for rec in file:\n",
    "    X.append(rec[2:14])\n",
    "    y.append(rec[-1])\n",
    "features = np.array(X[0])  # All feature names are in header \n",
    "# drop first row as it contain header info, convert all data into float\n",
    "X, y  = np.array(X[1:]).astype(np.float32) , np.array(y[1:]).astype(np.float32)\n",
    "\n",
    "# Shuffle the data set so the data will not be in same order\n",
    "X, y = shuffle(X, y, random_state=7)\n",
    "\n",
    "# Split the data into train and test\n",
    "num_training = int(0.9 * len(X))\n",
    "X_train, y_train = X[:num_training], y[:num_training]\n",
    "X_test, y_test = X[num_training:], y[num_training:]"
   ]
  },
  {
   "cell_type": "code",
   "execution_count": 256,
   "metadata": {
    "collapsed": false
   },
   "outputs": [
    {
     "data": {
      "text/plain": [
       "RandomForestRegressor(bootstrap=True, criterion='mse', max_depth=10,\n",
       "           max_features='auto', max_leaf_nodes=None, min_samples_leaf=1,\n",
       "           min_samples_split=1, min_weight_fraction_leaf=0.0,\n",
       "           n_estimators=1000, n_jobs=1, oob_score=False, random_state=None,\n",
       "           verbose=0, warm_start=False)"
      ]
     },
     "execution_count": 256,
     "metadata": {},
     "output_type": "execute_result"
    }
   ],
   "source": [
    "# Let us create our model\n",
    "rfModel = RandomForestRegressor(n_estimators=1000, max_depth=10, min_samples_split=1)\n",
    "rfModel.fit(X_train, y_train)"
   ]
  },
  {
   "cell_type": "markdown",
   "metadata": {},
   "source": [
    "Here, n_estimators refers to the number of estimators, which is the number of decision trees that we want to use in our random forest. The max_depth parameter refers to the maximum depth of each tree, and the min_samples_split parameter refers to the number of data samples that are needed to split a node in the tree."
   ]
  },
  {
   "cell_type": "code",
   "execution_count": 257,
   "metadata": {
    "collapsed": false
   },
   "outputs": [
    {
     "name": "stdout",
     "output_type": "stream",
     "text": [
      "EVS =  0.918401514296\n"
     ]
    }
   ],
   "source": [
    "# Metrics/ Model Performance\n",
    "y_pred_rf = rfModel.predict(X_test)\n",
    "print 'EVS = ', sm.explained_variance_score(y_test, y_pred_rf)"
   ]
  },
  {
   "cell_type": "code",
   "execution_count": 258,
   "metadata": {
    "collapsed": false
   },
   "outputs": [
    {
     "data": {
      "image/png": "[encoded data removed]",
      "text/plain": [
       "<matplotlib.figure.Figure at 0xb548550>"
      ]
     },
     "metadata": {},
     "output_type": "display_data"
    }
   ],
   "source": [
    "# We can try to use our earlier plot function and see what features are important to our model\n",
    "plot_feature_importances(rfModel.feature_importances_, 'Random Forest Regressor', features)"
   ]
  },
  {
   "cell_type": "code",
   "execution_count": 259,
   "metadata": {
    "collapsed": true
   },
   "outputs": [],
   "source": [
    "# So thats all from Regresson Models .. "
   ]
  }
 ],
 "metadata": {
  "kernelspec": {
   "display_name": "Python 2",
   "language": "python",
   "name": "python2"
  },
  "language_info": {
   "codemirror_mode": {
    "name": "ipython",
    "version": 2
   },
   "file_extension": ".py",
   "mimetype": "text/x-python",
   "name": "python",
   "nbconvert_exporter": "python",
   "pygments_lexer": "ipython2",
   "version": "2.7.11"
  }
 },
 "nbformat": 4,
 "nbformat_minor": 0
}
